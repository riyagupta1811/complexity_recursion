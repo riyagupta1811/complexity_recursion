{
 "cells": [
  {
   "cell_type": "code",
   "execution_count": null,
   "id": "4c02e4fa-68d4-4e64-b909-42d5b9b1ecc1",
   "metadata": {},
   "outputs": [],
   "source": [
    "# Time Complexity "
   ]
  },
  {
   "cell_type": "code",
   "execution_count": null,
   "id": "c72e63f9-e3d1-4e19-af22-ac67147993dd",
   "metadata": {},
   "outputs": [],
   "source": [
    "# problem 1"
   ]
  },
  {
   "cell_type": "markdown",
   "id": "20e8ed5f-c7c2-4330-b57b-745b3b5c7894",
   "metadata": {},
   "source": [
    " O(n^2)"
   ]
  },
  {
   "cell_type": "code",
   "execution_count": null,
   "id": "117cf2ae-66df-4d73-903d-3faca15a9b1a",
   "metadata": {},
   "outputs": [],
   "source": [
    "# problem 2"
   ]
  },
  {
   "cell_type": "markdown",
   "id": "ba0a653b-35e4-4d86-b773-506421688423",
   "metadata": {},
   "source": [
    "The outer loop runs rows times, and the inner loop runs cols times for each iteration of the outer loop.\n",
    "So, time complexity is\n",
    "\n",
    "O(rows * cols)"
   ]
  },
  {
   "cell_type": "code",
   "execution_count": null,
   "id": "fc043ca3-0779-4de9-9b64-abf61e56ae83",
   "metadata": {},
   "outputs": [],
   "source": [
    "# problem 3"
   ]
  },
  {
   "cell_type": "markdown",
   "id": "db5f5cb2-676c-4a41-9266-3832f0726fe6",
   "metadata": {},
   "source": [
    "O(n)"
   ]
  },
  {
   "cell_type": "code",
   "execution_count": null,
   "id": "9af534b2-b2a5-4d54-851f-a3d9465c893c",
   "metadata": {},
   "outputs": [],
   "source": [
    "# problem 4"
   ]
  },
  {
   "cell_type": "markdown",
   "id": "d8e88d88-894d-4e3b-a1c4-a506b0b31916",
   "metadata": {},
   "source": [
    "O(n^2)"
   ]
  },
  {
   "cell_type": "code",
   "execution_count": null,
   "id": "d6720ae3-792b-4a0d-8233-cedfc6f4da14",
   "metadata": {},
   "outputs": [],
   "source": [
    "# problem 5"
   ]
  },
  {
   "cell_type": "markdown",
   "id": "9b23b558-9042-4a8d-a9bb-7da6f9df84e4",
   "metadata": {},
   "source": [
    "O(n^2)"
   ]
  },
  {
   "cell_type": "code",
   "execution_count": null,
   "id": "aa3a18d0-2cea-4594-9e5f-4d39722065ad",
   "metadata": {},
   "outputs": [],
   "source": [
    "# problem 6"
   ]
  },
  {
   "cell_type": "code",
   "execution_count": 1,
   "id": "691692e5-bfb3-4796-a2ee-85454820d0d7",
   "metadata": {},
   "outputs": [
    {
     "name": "stdout",
     "output_type": "stream",
     "text": [
      "6\n"
     ]
    }
   ],
   "source": [
    "def sum_of_digits(n):\n",
    "    # Base case:\n",
    "    if n == 0:\n",
    "        return 0\n",
    "    # Recursive case: \n",
    "    return n % 10 + sum_of_digits(n // 10)\n",
    "\n",
    "# Example\n",
    "result = sum_of_digits(123)\n",
    "print(result) "
   ]
  },
  {
   "cell_type": "code",
   "execution_count": null,
   "id": "8896726d-20f8-4b72-baad-b9a83d49eea0",
   "metadata": {},
   "outputs": [],
   "source": [
    "# problem 7"
   ]
  },
  {
   "cell_type": "code",
   "execution_count": 2,
   "id": "e7b811ef-0a97-4169-8d07-a5401c1cad2b",
   "metadata": {},
   "outputs": [
    {
     "name": "stdout",
     "output_type": "stream",
     "text": [
      "[0, 1, 1, 2, 3, 5]\n"
     ]
    }
   ],
   "source": [
    "def fibonacci_series(n):\n",
    "    # Base case:\n",
    "    if n == 0:\n",
    "        return []\n",
    "    # Base case:\n",
    "    elif n == 1:\n",
    "        return [0]\n",
    "    # Base case: \n",
    "    elif n == 2:\n",
    "        return [0, 1]\n",
    "    \n",
    "    # Recursive case: \n",
    "    fib_series = fibonacci_series(n - 1)\n",
    "    \n",
    "    # Append the next Fibonacci number (sum of last two numbers)\n",
    "    fib_series.append(fib_series[-1] + fib_series[-2])\n",
    "    \n",
    "    return fib_series\n",
    "\n",
    "# Example\n",
    "result = fibonacci_series(6)\n",
    "print(result)  "
   ]
  },
  {
   "cell_type": "code",
   "execution_count": null,
   "id": "1f60966c-d519-4f8c-937a-6a17baf6c001",
   "metadata": {},
   "outputs": [],
   "source": [
    "# problem 8"
   ]
  },
  {
   "cell_type": "code",
   "execution_count": 3,
   "id": "4f18da87-ec73-4246-8001-b84061a71e09",
   "metadata": {},
   "outputs": [
    {
     "name": "stdout",
     "output_type": "stream",
     "text": [
      "True\n"
     ]
    }
   ],
   "source": [
    "def subset_sum(arr, target):\n",
    "    # Base case: \n",
    "    if target == 0:\n",
    "        return True\n",
    "    # Base case: \n",
    "    if len(arr) == 0:\n",
    "        return False\n",
    "    \n",
    "    # Consider the last element of the array\n",
    "    current_element = arr[-1]\n",
    "    \n",
    "    # Check two possibilities:\n",
    "    # 1. Include the current element in the subset\n",
    "    include = subset_sum(arr[:-1], target - current_element)\n",
    "    \n",
    "    # 2. Exclude the current element from the subset\n",
    "    exclude = subset_sum(arr[:-1], target)\n",
    "    \n",
    "    return include or exclude\n",
    "\n",
    "# Example\n",
    "result = subset_sum([3, 34, 4, 12, 5, 2], 9)\n",
    "print(result)\n"
   ]
  },
  {
   "cell_type": "code",
   "execution_count": null,
   "id": "32be0f45-f588-4f95-8cd8-3fcc972ac7d6",
   "metadata": {},
   "outputs": [],
   "source": [
    "# problem 9"
   ]
  },
  {
   "cell_type": "code",
   "execution_count": 4,
   "id": "c5733f60-51b3-4e84-b772-f56674c8eae5",
   "metadata": {},
   "outputs": [
    {
     "name": "stdout",
     "output_type": "stream",
     "text": [
      "True\n"
     ]
    }
   ],
   "source": [
    "def word_break(s, word_dict):\n",
    "    # Memoization to store already computed results for substrings\n",
    "    memo = {}\n",
    "    \n",
    "    def can_segment(substring):\n",
    "        # If the substring is empty, return True\n",
    "        if not substring:\n",
    "            return True\n",
    "        \n",
    "        # If the result is already computed for this substring, return it\n",
    "        if substring in memo:\n",
    "            return memo[substring]\n",
    "        \n",
    "        # Try all possible prefixes of the substring\n",
    "        for i in range(1, len(substring) + 1):\n",
    "            prefix = substring[:i]\n",
    "            # If the prefix is in the dictionary, check if the rest can be segmented\n",
    "            if prefix in word_dict and can_segment(substring[i:]):\n",
    "                memo[substring] = True\n",
    "                return True\n",
    "        \n",
    "        # If no valid segmentation is found, store the result as False\n",
    "        memo[substring] = False\n",
    "        return False\n",
    "    \n",
    "    return can_segment(s)\n",
    "\n",
    "# Example:\n",
    "result = word_break(\"leetcode\", [\"leet\", \"code\"])\n",
    "print(result)"
   ]
  },
  {
   "cell_type": "code",
   "execution_count": null,
   "id": "11847f99-7aac-458b-b3ca-fee0616ac90a",
   "metadata": {},
   "outputs": [],
   "source": [
    "#problem 10"
   ]
  },
  {
   "cell_type": "code",
   "execution_count": 5,
   "id": "ce78227e-7774-47bb-96f7-68ce1179b704",
   "metadata": {},
   "outputs": [
    {
     "name": "stdout",
     "output_type": "stream",
     "text": [
      ".Q..\n",
      "...Q\n",
      "Q...\n",
      "..Q.\n",
      "\n",
      "..Q.\n",
      "Q...\n",
      "...Q\n",
      ".Q..\n",
      "\n"
     ]
    }
   ],
   "source": [
    "def n_queens(n):\n",
    "    # To store all the valid solutions\n",
    "    solutions = []\n",
    "    \n",
    "    # Helper function to check if a queen can be placed at (row, col)\n",
    "    def is_safe(board, row, col):\n",
    "        for r in range(row):\n",
    "            if board[r] == col or abs(board[r] - col) == row - r:\n",
    "                return False\n",
    "        return True\n",
    "    \n",
    "    # Helper function for the backtracking approach\n",
    "    def solve(board, row):\n",
    "        # If all queens are placed\n",
    "        if row == n:\n",
    "            # Generate the solution and add to solutions list\n",
    "            solutions.append(generate_solution(board))\n",
    "            return\n",
    "        \n",
    "        # Try placing the queen in each column of the current row\n",
    "        for col in range(n):\n",
    "            if is_safe(board, row, col):\n",
    "                board[row] = col  # Place the queen\n",
    "                solve(board, row + 1)  # Recursively place queens in the next row\n",
    "                board[row] = -1  # Backtrack: Remove the queen\n",
    "    \n",
    "    # Convert the board's column positions to strings for visual representation\n",
    "    def generate_solution(board):\n",
    "        solution = []\n",
    "        for i in range(n):\n",
    "            row = ['.' for _ in range(n)]\n",
    "            row[board[i]] = 'Q'\n",
    "            solution.append(''.join(row))\n",
    "        return solution\n",
    "    \n",
    "    # Start the backtracking process\n",
    "    solve([-1] * n, 0)\n",
    "    \n",
    "    return solutions\n",
    "\n",
    "# Example\n",
    "result = n_queens(4)\n",
    "for solution in result:\n",
    "    for row in solution:\n",
    "        print(row)\n",
    "    print() \n"
   ]
  },
  {
   "cell_type": "code",
   "execution_count": null,
   "id": "6aa5b921-9f27-43f0-b80c-f31d324652ce",
   "metadata": {},
   "outputs": [],
   "source": []
  }
 ],
 "metadata": {
  "kernelspec": {
   "display_name": "Python 3 (ipykernel)",
   "language": "python",
   "name": "python3"
  },
  "language_info": {
   "codemirror_mode": {
    "name": "ipython",
    "version": 3
   },
   "file_extension": ".py",
   "mimetype": "text/x-python",
   "name": "python",
   "nbconvert_exporter": "python",
   "pygments_lexer": "ipython3",
   "version": "3.12.1"
  }
 },
 "nbformat": 4,
 "nbformat_minor": 5
}
